{
 "cells": [
  {
   "cell_type": "code",
   "execution_count": null,
   "metadata": {},
   "outputs": [],
   "source": [
    "import functions as fn\n",
    "import matplotlib.pyplot as plt\n",
    "import numpy as np\n",
    "from scipy.stats import norm"
   ]
  },
  {
   "cell_type": "code",
   "execution_count": null,
   "metadata": {},
   "outputs": [],
   "source": [
    "#Diagonal Kinetic Energy Matrix Element using Random Sampling\n",
    "\n",
    "np.random.seed(42)\n",
    "L = 7  \n",
    "n_points_list = [10**2, 10**3, 10**4, 10**5, 10**6, 10**7, 9**8]  #Kernel crashes for 10**8\n",
    "R=0  #0 for diagonal\n",
    "\n",
    "# Lists to store results\n",
    "Kii_values = []\n",
    "std_devs = []\n",
    "\n",
    "# Monte Carlo integration loop for varying n_points\n",
    "for n_points in n_points_list:\n",
    "    Kii=fn.random(L,n_points,R)\n",
    "    Kii_values.append(Kii)\n",
    "    print(f\"N = {n_points}, K_ii = {Kii}\")\n",
    "   \n",
    "# Plot the results\n",
    "plt.figure(figsize=(8, 6))\n",
    "plt.plot(n_points_list, Kii_values, 'o-', label='$K_{ii}$')\n",
    "plt.xscale('log')\n",
    "plt.ylim(-0.1, 0.6)\n",
    "plt.xlabel('Number of Points Sampled')\n",
    "plt.ylabel('Kinetic Energy Matrix Element ($K_{ii}$)')\n",
    "plt.title('Kinetic Energy Matrix Element ($K_{ii}$) integration using Random Sampling')\n",
    "plt.grid()\n",
    "plt.legend()"
   ]
  },
  {
   "cell_type": "code",
   "execution_count": null,
   "metadata": {},
   "outputs": [],
   "source": [
    "#Diagonal Kinetic Energy Matrix Element using Normal Distribution Importance Sampling\n",
    "\n",
    "np.random.seed(42)\n",
    "Kii_values = []\n",
    "\n",
    "# Monte Carlo integration loop for varying n_points\n",
    "for n_points in n_points_list:\n",
    "    Kii=fn.importance(n_points,R)\n",
    "    Kii_values.append(Kii)\n",
    "    #print(f\"N = {n_points}, K_ii = {Kii}\")\n",
    "   \n",
    "# Plot the results\n",
    "plt.plot(n_points_list, Kii_values, 'o-', label='$K_{ii}$')\n",
    "plt.xscale('log')\n",
    "plt.ylim(-.1, .6)\n",
    "plt.xlabel('Number of Points Sampled (N)')\n",
    "plt.ylabel('Kinetic Energy Matrix Element ($K_{ii}$)')\n",
    "plt.title('Kinetic Energy Matrix Element ($K_{ii}$) integration using Importance Sampling')\n",
    "plt.grid()\n",
    "plt.legend()\n",
    "plt.show()"
   ]
  },
  {
   "cell_type": "code",
   "execution_count": null,
   "metadata": {},
   "outputs": [],
   "source": [
    "#Off-diagonal Kinetic Energy Matrix Element using random sampling\n",
    "\n",
    "R=1.4  #change R so it is off-diagonal\n",
    "\n",
    "Kij_values = []\n",
    "\n",
    "# Monte Carlo integration loop for varying n_points\n",
    "for n_points in n_points_list:\n",
    "    Kij=fn.random(L,n_points,R)\n",
    "    Kij_values.append(Kij)\n",
    "    print(f\"N = {n_points}, K_ij = {Kij}\")\n",
    "   \n",
    "# Plot the results\n",
    "plt.plot(n_points_list, Kij_values,'o-', label='Estimated $K_{ij}$')\n",
    "plt.xscale('log')\n",
    "plt.ylim(-.05, 0.5)\n",
    "plt.xlabel('Number of Points Sampled (N)')\n",
    "plt.ylabel('Kinetic Energy Matrix Element ($K_{ij}$)')\n",
    "plt.title('Kinetic Energy Matrix Element ($K_{ij}$) integration using Random Sampling')\n",
    "plt.grid()\n",
    "plt.legend()"
   ]
  },
  {
   "cell_type": "code",
   "execution_count": null,
   "metadata": {},
   "outputs": [],
   "source": [
    "#Off-diagonal Kinetic Energy Matrix Element using normal distribution importance sampling\n",
    "\n",
    "R=1.4  #change R so it is off-diagonal\n",
    "\n",
    "Kij_values = []\n",
    "\n",
    "# Monte Carlo integration loop for varying n_points\n",
    "for n_points in n_points_list:\n",
    "    Kij=fn.importance(n_points,R)\n",
    "    Kij_values.append(Kij)\n",
    "   \n",
    "# Plot the results\n",
    "plt.plot(n_points_list, Kij_values,'o-', label='Estimated $K_{ij}$')\n",
    "plt.xscale('log')\n",
    "plt.ylim(-.05, 0.5)\n",
    "plt.xlabel('Number of Points Sampled (N)')\n",
    "plt.ylabel('Kinetic Energy Matrix Element ($K_{ij}$)')\n",
    "plt.title('Kinetic Energy Matrix Element ($K_{ij}$) integration using Importance Sampling')\n",
    "plt.grid()\n",
    "plt.legend()"
   ]
  },
  {
   "cell_type": "code",
   "execution_count": null,
   "metadata": {},
   "outputs": [],
   "source": []
  }
 ],
 "metadata": {
  "kernelspec": {
   "display_name": "Python 3",
   "language": "python",
   "name": "python3"
  },
  "language_info": {
   "codemirror_mode": {
    "name": "ipython",
    "version": 3
   },
   "file_extension": ".py",
   "mimetype": "text/x-python",
   "name": "python",
   "nbconvert_exporter": "python",
   "pygments_lexer": "ipython3",
   "version": "3.12.1"
  }
 },
 "nbformat": 4,
 "nbformat_minor": 2
}
