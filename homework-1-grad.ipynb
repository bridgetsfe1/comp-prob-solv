{
 "cells": [
  {
   "cell_type": "code",
   "execution_count": 3,
   "metadata": {},
   "outputs": [],
   "source": [
    "import numpy as np \n",
    "import math\n",
    "import matplotlib.pyplot as plt\n",
    "\n",
    "#Defining constants (in atomic units) and Discretize the System\n",
    "h_bar = 1\n",
    "m = 1\n",
    "L = 1 #1 Bohr radius\n",
    "n = 2000\n",
    "grid = np.linspace(-L/2, L/2, n)"
   ]
  },
  {
   "cell_type": "code",
   "execution_count": 4,
   "metadata": {},
   "outputs": [
    {
     "name": "stdout",
     "output_type": "stream",
     "text": [
      "[[-7992002.  3996001.        0.        0.        0.]\n",
      " [ 3996001. -7992002.  3996001.        0.        0.]\n",
      " [       0.  3996001. -7992002.  3996001.        0.]\n",
      " [       0.        0.  3996001. -7992002.  3996001.]\n",
      " [       0.        0.        0.  3996001. -7992002.]]\n"
     ]
    }
   ],
   "source": [
    "#Constucting the Laplacian matrix\n",
    "import numpy as np\n",
    "lp_matrix = np.matrix([[-2, 1, 0, 0, 0], [1, -2, 1, 0, 0], [0, 1, -2, 1, 0], [0, 0, 1, -2, 1], [0, 0, 0, 1, -2]])\n",
    "\n",
    "dx = (1 / (n-1) )\n",
    "laplacian = (1/((dx)**2)) * (lp_matrix)      \n",
    "print(laplacian)"
   ]
  },
  {
   "cell_type": "code",
   "execution_count": 7,
   "metadata": {},
   "outputs": [
    {
     "name": "stdout",
     "output_type": "stream",
     "text": [
      "[[ 3996001.  -1998000.5        0.         0.         0. ]\n",
      " [-1998000.5  3996001.  -1998000.5        0.         0. ]\n",
      " [       0.  -1998000.5  3996001.  -1998000.5        0. ]\n",
      " [       0.         0.  -1998000.5  3996001.  -1998000.5]\n",
      " [       0.         0.         0.  -1998000.5  3996001. ]]\n"
     ]
    }
   ],
   "source": [
    "#Constructing Hamiltonian Matrix\n",
    "hamiltonian_matrix = -((h_bar**2) / (2 * m)) * laplacian\n",
    "print(hamiltonian_matrix)"
   ]
  },
  {
   "cell_type": "code",
   "execution_count": 9,
   "metadata": {},
   "outputs": [
    {
     "name": "stdout",
     "output_type": "stream",
     "text": [
      "First seven energies (eigenvalues):\n",
      "[ 535362.62045198 1998000.5        3996001.         5994001.5\n",
      " 7456639.37954801]\n"
     ]
    }
   ],
   "source": [
    "#Solve for Eigenvalues and Eigenvectors, sorting eigenvalues and extracting first 7 energy levels\n",
    "eigenvalues, eigenvectors = (np.linalg.eig(hamiltonian_matrix))\n",
    "sorted_values = np.argsort(eigenvalues)                     #Sort eigenvalues/vectors by indices\n",
    "eigenvalues = eigenvalues[sorted_values]\n",
    "eigenvectors = eigenvectors[:, sorted_values]\n",
    "\n",
    "eigenvalues_7 = eigenvalues[:7]\n",
    "eigenfunctions_7 = eigenvectors[:, :7]\n",
    "\n",
    "print(\"First seven energies (eigenvalues):\")\n",
    "print(eigenvalues_7)"
   ]
  },
  {
   "cell_type": "code",
   "execution_count": 14,
   "metadata": {},
   "outputs": [
    {
     "ename": "NameError",
     "evalue": "name 'sorted_eigenvalues' is not defined",
     "output_type": "error",
     "traceback": [
      "\u001b[0;31m---------------------------------------------------------------------------\u001b[0m",
      "\u001b[0;31mNameError\u001b[0m                                 Traceback (most recent call last)",
      "Cell \u001b[0;32mIn[14], line 3\u001b[0m\n\u001b[1;32m      1\u001b[0m \u001b[38;5;66;03m# Extract the first five energy levels and corresponding wavefunctions\u001b[39;00m\n\u001b[1;32m      2\u001b[0m num_levels \u001b[38;5;241m=\u001b[39m \u001b[38;5;241m5\u001b[39m\n\u001b[0;32m----> 3\u001b[0m first_five_eigenvalues \u001b[38;5;241m=\u001b[39m \u001b[43msorted_eigenvalues\u001b[49m[:num_levels]\n\u001b[1;32m      4\u001b[0m first_five_eigenfunctions \u001b[38;5;241m=\u001b[39m sorted_eigenfunctions[:, :num_levels]\n\u001b[1;32m      6\u001b[0m \u001b[38;5;66;03m# Plot the first five wavefunctions\u001b[39;00m\n",
      "\u001b[0;31mNameError\u001b[0m: name 'sorted_eigenvalues' is not defined"
     ]
    }
   ],
   "source": [
    "# Extract the first five energy levels and corresponding wavefunctions\n",
    "num_levels = 5\n",
    "first_five_eigenvalues = sorted_eigenvalues[:num_levels]\n",
    "first_five_eigenfunctions = sorted_eigenfunctions[:, :num_levels]\n",
    "\n",
    "# Plot the first five wavefunctions\n",
    "plt.figure(figsize=(12, 8))\n",
    "\n",
    "# Names for the wavefunctions\n",
    "wavefunction_names = [r'$\\psi_1$', r'$\\psi_2$', r'$\\psi_3$', r'$\\psi_4$', r'$\\psi_5$']\n",
    "\n",
    "for i in range(num_levels):\n",
    "    plt.plot(grid, first_five_eigenfunctions[:, i], label=f'{wavefunction_names[i]} (E = {first_five_eigenvalues[i]:.4f})')\n",
    "\n",
    "plt.title('First Five Wavefunctions')\n",
    "plt.xlabel('Position (Bohr radii)')\n",
    "plt.ylabel('Wavefunction')\n",
    "plt.legend()\n",
    "plt.grid(True)\n",
    "plt.show()"
   ]
  },
  {
   "cell_type": "code",
   "execution_count": null,
   "metadata": {},
   "outputs": [],
   "source": []
  }
 ],
 "metadata": {
  "kernelspec": {
   "display_name": "Python 3 (ipykernel)",
   "language": "python",
   "name": "python3"
  },
  "language_info": {
   "codemirror_mode": {
    "name": "ipython",
    "version": 3
   },
   "file_extension": ".py",
   "mimetype": "text/x-python",
   "name": "python",
   "nbconvert_exporter": "python",
   "pygments_lexer": "ipython3",
   "version": "3.12.1"
  }
 },
 "nbformat": 4,
 "nbformat_minor": 2
}
