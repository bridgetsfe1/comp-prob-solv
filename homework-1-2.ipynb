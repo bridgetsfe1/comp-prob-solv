{
 "cells": [
  {
   "cell_type": "code",
   "execution_count": 13,
   "metadata": {},
   "outputs": [
    {
     "name": "stdout",
     "output_type": "stream",
     "text": [
      "{'H1': [0.0, 0.0, 0.0], 'H2': [0.0, 0.0, 0.7414]}\n",
      "{'O1': [0.0, 0.0, 0.1173], 'H1': [0.0, 0.7572, -0.4692], 'H2': [0.0, -0.7572, -0.4692]}\n",
      "{'C1': [0.0, 1.397, 0.0], 'C2': [1.2098, 0.6985, 0.0], 'C3': [1.2098, -0.6985, 0.0], 'C4': [0.0, -1.397, 0.0], 'C5': [-1.2098, -0.6985, 0.0], 'C6': [-1.2098, 0.6985, 0.0], 'H1': [0.0, 2.481, 0.0], 'H2': [2.1486, 1.2405, 0.0], 'H3': [2.1486, -1.2405, 0.0], 'H4': [0.0, -2.481, 0.0], 'H5': [-2.1486, -1.2405, 0.0], 'H6': [-2.1486, 1.2405, 0.0]}\n"
     ]
    }
   ],
   "source": [
    "H2_coords = {\n",
    "    \"H1\": [0.0, 0.0, 0.0],\n",
    "    \"H2\": [0.0, 0.0, 0.7414]\n",
    "    }\n",
    "H2O_coords = {\n",
    "   \"O1\": [0.0, 0.0, 0.1173], \n",
    "   \"H1\": [0.0, 0.7572, -0.4692],\n",
    "   \"H2\": [0.0, -0.7572, -0.4692]\n",
    "   }\n",
    "Benzene_coords = {\n",
    "    \"C1\":\t[0.0000, 1.3970, 0.0000],\n",
    "    \"C2\":\t[1.2098, 0.6985, 0.0000],\n",
    "    \"C3\":\t[1.2098, -0.6985, 0.0000],\n",
    "    \"C4\":\t[0.0000, -1.3970, 0.0000],\n",
    "    \"C5\":\t[-1.2098, -0.6985, 0.0000],\n",
    "    \"C6\":\t[-1.2098, 0.6985, 0.0000],\n",
    "    \"H1\":\t[0.0000, 2.4810, 0.0000],\n",
    "    \"H2\":\t[2.1486, 1.2405, 0.0000],\n",
    "    \"H3\":\t[2.1486, -1.2405, 0.0000],\n",
    "    \"H4\":\t[0.0000, -2.4810, 0.0000],\n",
    "    \"H5\":\t[-2.1486, -1.2405, 0.0000],\n",
    "    \"H6\":\t[-2.1486, 1.2405, 0.0000]\n",
    "    }\n",
    "print(H2_coords)\n",
    "print(H2O_coords)\n",
    "print(Benzene_coords)\n"
   ]
  },
  {
   "cell_type": "code",
   "execution_count": 46,
   "metadata": {},
   "outputs": [],
   "source": [
    "import math\n",
    "def compute_bond_length(dict, coord1, coord2):\n",
    "    \"\"\" Calculates the distance in angstroms between two atoms using Cartesian coordinates.\n",
    "    Parameters:\n",
    "        dict: Dictionary where positions of atoms in a given molecule are stored. \n",
    "        coord1: Cartesian coordinates of first point. \n",
    "        coord2: Cartesian coordinates of second point.\n",
    "    Returns:\n",
    "        float: the distance between the two points. \n",
    "        Error if both atoms are not defined in the molecule's dictionary.\n",
    "        Warning if the distance is longer than 2 Angstroms (longer than covalent bonds).\n",
    "    \"\"\"\n",
    "    if coord1 not in dict or coord2 not in dict:\n",
    "        print(\"Error: Both coordinates must appear in the same molecule.\")\n",
    "    else:\n",
    "        coordinate_1 = dict[coord1]\n",
    "        coordinate_2 = dict[coord2]\n",
    "        distance = math.sqrt((coordinate_2[0]-coordinate_1[0])**2 + (coordinate_2[1]-coordinate_1[1])**2 + (coordinate_2[2]-coordinate_1[2])**2)\n",
    "\n",
    "        if distance > 2:\n",
    "            print(\"Warning: The distance between the 2 atoms is greater than 2 angstroms and is not a reasonable range for covalent bonds.\")\n",
    "        print(\"The distance between\", coord1, \"and\", coord2, \"is\", distance,  \"angstoms\")\n"
   ]
  },
  {
   "cell_type": "code",
   "execution_count": 48,
   "metadata": {},
   "outputs": [
    {
     "name": "stdout",
     "output_type": "stream",
     "text": [
      "The distance between H1 and H2 is 0.7414 angstoms\n",
      "\n",
      "Warning: The distance between the 2 atoms is greater than 2 angstroms and is not a reasonable range for covalent bonds.\n",
      "The distance between C1 and H2 is 2.1542920438046465 angstoms\n",
      "\n",
      "Error: Both coordinates must appear in the same molecule.\n"
     ]
    }
   ],
   "source": [
    "#Part 2: Verifying accuracy of function\n",
    "compute_bond_length(H2_coords, \"H1\", \"H2\")\n",
    "print()\n",
    "compute_bond_length(Benzene_coords, \"C1\", \"H2\")\n",
    "print()\n",
    "compute_bond_length(H2O_coords, \"O1\", \"H6\")"
   ]
  },
  {
   "cell_type": "code",
   "execution_count": 88,
   "metadata": {},
   "outputs": [],
   "source": [
    "#Question: How to make sure coord2 is the central atom of angle? Something wrong, results don't add up.\n",
    "import numpy as np\n",
    "def compute_bond_angle(dict, coord1, coord2, coord3):\n",
    "    \"\"\" Calculate the angle between 3 atoms in a molecule in degrees using Cartesian coordinates. \n",
    "    Parameters:\n",
    "        dict: Dictionary where positions of atoms in a given molecule are stored. \n",
    "        coord1: Cartesian coordinates of first point. \n",
    "        coord2: Cartesian coordinates of second point (central atom to bond angle).\n",
    "        coord3: Cartesian coordinates of third point. \n",
    "    Returns:\n",
    "\n",
    "    \"\"\"\n",
    "    if coord1 not in dict or coord2 not in dict or coord3 not in dict:\n",
    "        print(\"Error: All coordinates must appear in the same molecule.\")\n",
    "    else:\n",
    "        coordinate_A = dict[coord1]\n",
    "        coordinate_B = dict[coord2]\n",
    "        coordinate_C = dict[coord3]\n",
    "        vector_AB = np.array([(coordinate_B[0]-coordinate_A[0]), (coordinate_B[1]-coordinate_A[1]), (coordinate_B[2]-coordinate_A[2])])\n",
    "        vector_BC = np.array([(coordinate_C[0]-coordinate_B[0]), (coordinate_C[1]-coordinate_B[1]), (coordinate_C[2]-coordinate_B[2])])\n",
    "        mag_AB = math.sqrt(vector_AB[0]**2 + vector_AB[1]**2 + vector_AB[2]**2)\n",
    "        mag_BC = math.sqrt(vector_BC[0]**2 + vector_BC[1]**2 + vector_BC[2]**2)\n",
    "\n",
    "        cos_angle = (np.dot(vector_AB, vector_BC)) / (mag_AB * mag_BC)\n",
    "        theta_rad = np.arccos(cos_angle)\n",
    "        theta_deg = math.degrees(theta_rad)\n",
    "\n",
    "        if theta_deg < 90:\n",
    "            print(\"The bond angle is acute.\")\n",
    "        elif theta_deg > 90:\n",
    "            print(\"The bond angle is obtuse.\")\n",
    "        else:\n",
    "            print(\"The bond angle is right.\")\n",
    "    \n",
    "    print(\"The bond angle in degrees between\", coord1, \",\", coord2, \", and\", coord3, \"is\", theta_deg)"
   ]
  },
  {
   "cell_type": "code",
   "execution_count": 87,
   "metadata": {},
   "outputs": [
    {
     "name": "stdout",
     "output_type": "stream",
     "text": [
      "The bond angle is acute.\n",
      "The bond angle between H1 , O1 , and H2 is 75.52016118163358\n"
     ]
    }
   ],
   "source": [
    "#Part 3: Verifying results\n",
    "compute_bond_angle(H2O_coords, \"H1\", \"O1\", \"H2\")"
   ]
  },
  {
   "cell_type": "code",
   "execution_count": null,
   "metadata": {},
   "outputs": [],
   "source": []
  }
 ],
 "metadata": {
  "kernelspec": {
   "display_name": "Python 3 (ipykernel)",
   "language": "python",
   "name": "python3"
  },
  "language_info": {
   "codemirror_mode": {
    "name": "ipython",
    "version": 3
   },
   "file_extension": ".py",
   "mimetype": "text/x-python",
   "name": "python",
   "nbconvert_exporter": "python",
   "pygments_lexer": "ipython3",
   "version": "3.12.1"
  }
 },
 "nbformat": 4,
 "nbformat_minor": 2
}
