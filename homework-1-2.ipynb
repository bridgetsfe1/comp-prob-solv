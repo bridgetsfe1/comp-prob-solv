{
 "cells": [
  {
   "cell_type": "code",
   "execution_count": 2,
   "metadata": {},
   "outputs": [
    {
     "name": "stdout",
     "output_type": "stream",
     "text": [
      "{'H1': [0.0, 0.0, 0.0], 'H2': [0.0, 0.0, 0.7414]}\n",
      "{'O1': [0.0, 0.0, 0.1173], 'H1': [0.0, 0.7572, -0.4692], 'H2': [0.0, -0.7572, -0.4692]}\n",
      "{'C1': [0.0, 1.397, 0.0], 'C2': [1.2098, 0.6985, 0.0], 'C3': [1.2098, -0.6985, 0.0], 'C4': [0.0, -1.397, 0.0], 'C5': [-1.2098, -0.6985, 0.0], 'C6': [-1.2098, 0.6985, 0.0], 'H1': [0.0, 2.481, 0.0], 'H2': [2.1486, 1.2405, 0.0], 'H3': [2.1486, -1.2405, 0.0], 'H4': [0.0, -2.481, 0.0], 'H5': [-2.1486, -1.2405, 0.0], 'H6': [-2.1486, 1.2405, 0.0]}\n"
     ]
    }
   ],
   "source": [
    "H2_coords = {\n",
    "    \"H1\": [0.0, 0.0, 0.0],\n",
    "    \"H2\": [0.0, 0.0, 0.7414]\n",
    "    }\n",
    "H2O_coords = {\n",
    "   \"O1\": [0.0, 0.0, 0.1173], \n",
    "   \"H1\": [0.0, 0.7572, -0.4692],\n",
    "   \"H2\": [0.0, -0.7572, -0.4692]\n",
    "   }\n",
    "Benzene_coords = {\n",
    "    \"C1\":\t[0.0000, 1.3970, 0.0000],\n",
    "    \"C2\":\t[1.2098, 0.6985, 0.0000],\n",
    "    \"C3\":\t[1.2098, -0.6985, 0.0000],\n",
    "    \"C4\":\t[0.0000, -1.3970, 0.0000],\n",
    "    \"C5\":\t[-1.2098, -0.6985, 0.0000],\n",
    "    \"C6\":\t[-1.2098, 0.6985, 0.0000],\n",
    "    \"H1\":\t[0.0000, 2.4810, 0.0000],\n",
    "    \"H2\":\t[2.1486, 1.2405, 0.0000],\n",
    "    \"H3\":\t[2.1486, -1.2405, 0.0000],\n",
    "    \"H4\":\t[0.0000, -2.4810, 0.0000],\n",
    "    \"H5\":\t[-2.1486, -1.2405, 0.0000],\n",
    "    \"H6\":\t[-2.1486, 1.2405, 0.0000]\n",
    "    }\n",
    "print(H2_coords)\n",
    "print(H2O_coords)\n",
    "print(Benzene_coords)\n"
   ]
  },
  {
   "cell_type": "code",
   "execution_count": 3,
   "metadata": {},
   "outputs": [],
   "source": [
    "import math\n",
    "def compute_bond_length(atom_dict, coord1, coord2):\n",
    "    \"\"\" Calculates the distance in angstroms between two atoms using Cartesian coordinates.\n",
    "    Parameters:\n",
    "        dict: Dictionary where positions of atoms in a given molecule are stored. \n",
    "        coord1: Cartesian coordinates of first point. \n",
    "        coord2: Cartesian coordinates of second point.\n",
    "    Returns:\n",
    "        float: the distance between the two points in angstroms\n",
    "        Error if both atoms are not defined in the molecule's dictionary.\n",
    "        Warning if the distance is longer than 2 Angstroms (longer than covalent bonds).\n",
    "    \"\"\"\n",
    "    warning = \" \"\n",
    "    if coord1 not in atom_dict or coord2 not in atom_dict:\n",
    "        print(\"Error: Both coordinates must appear in the same molecule.\")\n",
    "    else:\n",
    "        coordinate_1 = atom_dict[coord1]\n",
    "        coordinate_2 = atom_dict[coord2]\n",
    "        distance = math.sqrt((coordinate_2[0]-coordinate_1[0])**2 + (coordinate_2[1]-coordinate_1[1])**2 + (coordinate_2[2]-coordinate_1[2])**2)\n",
    "\n",
    "        if distance > 2:\n",
    "            warning = \"Warning: The distance between the 2 atoms below is greater than 2 angstroms and is not a reasonable range for covalent bonds.\"\n",
    "            return distance\n",
    "        else:\n",
    "            return distance\n"
   ]
  },
  {
   "cell_type": "code",
   "execution_count": 4,
   "metadata": {},
   "outputs": [
    {
     "name": "stdout",
     "output_type": "stream",
     "text": [
      "Distance between H1 and H2: 0.7414 Å\n",
      "\n",
      "Distance between H1 and H2: 2.1542920438046465 Å\n",
      "Warning the above bond has a length longer than expected for covalent bonds (2Å)\n",
      "\n",
      "Error: Both coordinates must appear in the same molecule.\n"
     ]
    }
   ],
   "source": [
    "#Part 2: Verifying accuracy of function\n",
    "distance = compute_bond_length(H2_coords, \"H1\", \"H2\")\n",
    "print(f\"Distance between H1 and H2: {distance} Å\")\n",
    "if distance > 2:\n",
    "    print(\"Warning the above bond has a length longer than expected for covalent bonds (2Å)\")\n",
    "print()\n",
    "distance = compute_bond_length(Benzene_coords, \"C1\", \"H2\")\n",
    "print(f\"Distance between H1 and H2: {distance} Å\")\n",
    "if distance > 2:\n",
    "    print(\"Warning the above bond has a length longer than expected for covalent bonds (2Å)\")\n",
    "print()\n",
    "distance = compute_bond_length(H2O_coords, \"O1\", \"H6\")"
   ]
  },
  {
   "cell_type": "code",
   "execution_count": 6,
   "metadata": {},
   "outputs": [],
   "source": [
    "import numpy as np\n",
    "def compute_bond_angle(atom_dict, coord1, coord2, coord3):\n",
    "    \"\"\" Calculate the angle between 3 atoms in a molecule in degrees using Cartesian coordinates. \n",
    "    Parameters:\n",
    "        dict: Dictionary where positions of atoms in a given molecule are stored. \n",
    "        coord1: Cartesian coordinates of first point. \n",
    "        coord2: Cartesian coordinates of second point (central atom to bond angle).\n",
    "        coord3: Cartesian coordinates of third point. \n",
    "    Returns:\n",
    "        Whether the bond angle is acute, right, or obtuse. \n",
    "        float: the bond angle between 3 atoms in degrees. \n",
    "        Error if all 3 atoms do not appear in the same dictionary.\n",
    "    \"\"\"\n",
    "    if coord1 not in atom_dict or coord2 not in atom_dict or coord3 not in atom_dict:\n",
    "        print(\"Error: All coordinates must appear in the same molecule.\")\n",
    "    else:\n",
    "        coordinate_A = atom_dict[coord1]\n",
    "        coordinate_B = atom_dict[coord2]\n",
    "        coordinate_C = atom_dict[coord3]\n",
    "        vector_BA = np.array([(coordinate_A[0]-coordinate_B[0]), (coordinate_A[1]-coordinate_B[1]), (coordinate_A[2]-coordinate_B[2])])\n",
    "        vector_BC = np.array([(coordinate_C[0]-coordinate_B[0]), (coordinate_C[1]-coordinate_B[1]), (coordinate_C[2]-coordinate_B[2])])\n",
    "        \n",
    "        mag_AB = math.sqrt((vector_BA[0])**2 + (vector_BA[1])**2 + (vector_BA[2])**2)\n",
    "        mag_BC = math.sqrt((vector_BC[0])**2 + (vector_BC[1])**2 + (vector_BC[2])**2)\n",
    "        \n",
    "        cos_angle = ((np.dot(vector_BA, vector_BC)) / (mag_AB * mag_BC))\n",
    "        theta_rad = np.arccos(cos_angle)\n",
    "        theta_deg = math.degrees(theta_rad)\n",
    "\n",
    "        if theta_deg == 90.00:\n",
    "            print(\"The below bond angle is right.\")\n",
    "        elif theta_deg > 90.00:\n",
    "            print(\"The below bond angle is obtuse.\")\n",
    "        else:\n",
    "            print(\"The below bond angle is acute.\")\n",
    "    \n",
    "    return theta_deg\n"
   ]
  },
  {
   "cell_type": "code",
   "execution_count": 7,
   "metadata": {},
   "outputs": [
    {
     "name": "stdout",
     "output_type": "stream",
     "text": [
      "The below bond angle is obtuse.\n",
      "Angle between H1, O1, and H2 is: 104.47983881836642 degrees\n",
      "The below bond angle is obtuse.\n",
      "Angle between C1, C2, and H2 is: 119.9999833867389 degrees\n"
     ]
    }
   ],
   "source": [
    "#Part 3: Verifying results\n",
    "theta_deg = compute_bond_angle(H2O_coords, \"H1\", \"O1\", \"H2\")\n",
    "print(f\"Angle between H1, O1, and H2 is: {theta_deg} degrees\")\n",
    "theta_deg = compute_bond_angle(Benzene_coords, \"C1\", \"C2\", \"H2\")\n",
    "print(f\"Angle between C1, C2, and H2 is: {theta_deg} degrees\")"
   ]
  },
  {
   "cell_type": "code",
   "execution_count": 8,
   "metadata": {},
   "outputs": [],
   "source": [
    "def calculate_all_bond_lengths(atom_dict):\n",
    "    \"\"\" Calculates all unique bond lengths in a given dictionary of atoms in a molecule. \n",
    "    Parameters:\n",
    "        dict: Dictionary where Cartesian coordinates of each atom in a molecule are stored.\n",
    "    Returns:\n",
    "        List: Bond length in angstroms between each unique set of atoms in the molecule. (Tuples: atom1, atom2, distance)\n",
    "    \"\"\"\n",
    "    bond_lengths = []\n",
    "    atoms = list(atom_dict.keys())\n",
    "    \n",
    "    for i in range(len(atoms)):\n",
    "        for j in range(i + 1, len(atoms)):              #Only appends to list for unqie pairs\n",
    "            atom1 = atoms[i]\n",
    "            atom2 = atoms[j]\n",
    "            \n",
    "            distance = compute_bond_length(atom_dict, atom1, atom2)\n",
    "\n",
    "            if distance is not None and distance <= 2:\n",
    "                # Print the distance and warning if applicable\n",
    "                print(f\"Distance between {atom1} and {atom2}: {distance:.2f} Å\")\n",
    "                if distance > 2:\n",
    "                    print(\"Warning: The distance between the 2 atoms is greater than 2 angstroms and is not a reasonable range for covalent bonds.\")\n",
    "                \n",
    "    "
   ]
  },
  {
   "cell_type": "code",
   "execution_count": 9,
   "metadata": {},
   "outputs": [
    {
     "name": "stdout",
     "output_type": "stream",
     "text": [
      "Distance between H1 and H2: 0.74 Å\n",
      "\n",
      "Distance between O1 and H1: 0.96 Å\n",
      "Distance between O1 and H2: 0.96 Å\n",
      "Distance between H1 and H2: 1.51 Å\n",
      "\n",
      "Distance between C1 and C2: 1.40 Å\n",
      "Distance between C1 and C6: 1.40 Å\n",
      "Distance between C1 and H1: 1.08 Å\n",
      "Distance between C2 and C3: 1.40 Å\n",
      "Distance between C2 and H2: 1.08 Å\n",
      "Distance between C3 and C4: 1.40 Å\n",
      "Distance between C3 and H3: 1.08 Å\n",
      "Distance between C4 and C5: 1.40 Å\n",
      "Distance between C4 and H4: 1.08 Å\n",
      "Distance between C5 and C6: 1.40 Å\n",
      "Distance between C5 and H5: 1.08 Å\n",
      "Distance between C6 and H6: 1.08 Å\n",
      "\n"
     ]
    }
   ],
   "source": [
    "calculate_all_bond_lengths(H2_coords)\n",
    "print()\n",
    "calculate_all_bond_lengths(H2O_coords)\n",
    "print()\n",
    "calculate_all_bond_lengths(Benzene_coords)\n",
    "print()\n"
   ]
  },
  {
   "cell_type": "code",
   "execution_count": 10,
   "metadata": {},
   "outputs": [],
   "source": [
    "def calculate_all_bond_angles(atom_dict):\n",
    "    \"\"\"\n",
    "    Calculates all unique bond angles in a given dictionary of atoms in a molecule.\n",
    "\n",
    "    Parameters:\n",
    "        atom_dict (dict): Dictionary where Cartesian coordinates of each atom in a molecule are stored.\n",
    "    \n",
    "    Returns:\n",
    "        List: Each item contains the names of three atoms and their bond angle in degrees.\n",
    "    \n",
    "    \"\"\"\n",
    "    \n",
    "    bond_angles = []\n",
    "    atoms = list(atom_dict.keys())\n",
    "    \n",
    "    for i in range(len(atoms)):\n",
    "        for j in range(len(atoms)):\n",
    "            for k in range(len(atoms)):\n",
    "                if i != j and i != k and j != k:  # Ensure distinct atoms\n",
    "                    atom1 = atoms[i]\n",
    "                    atom2 = atoms[j]\n",
    "                    atom3 = atoms[k]\n",
    "                    \n",
    "                    \n",
    "                    # Calculate angle with atom2 as the central atom\n",
    "                    angle = compute_bond_angle(atom_dict, atom1, atom2, atom3)\n",
    "                    bond_angles.append((atom1, atom2, atom3, angle))\n",
    "                        \n",
    "                    print(f\"Bond angle between {atom1}, {atom2}, and {atom3}: {angle:.2f}°\")\n",
    "\n",
    "    \n",
    "    return bond_angles\n"
   ]
  },
  {
   "cell_type": "code",
   "execution_count": 11,
   "metadata": {},
   "outputs": [
    {
     "name": "stdout",
     "output_type": "stream",
     "text": [
      "\n",
      "The below bond angle is acute.\n",
      "Bond angle between O1, H1, and H2: 37.76°\n",
      "The below bond angle is acute.\n",
      "Bond angle between O1, H2, and H1: 37.76°\n",
      "The below bond angle is obtuse.\n",
      "Bond angle between H1, O1, and H2: 104.48°\n",
      "The below bond angle is acute.\n",
      "Bond angle between H1, H2, and O1: 37.76°\n",
      "The below bond angle is obtuse.\n",
      "Bond angle between H2, O1, and H1: 104.48°\n",
      "The below bond angle is acute.\n",
      "Bond angle between H2, H1, and O1: 37.76°\n",
      "\n",
      "\n"
     ]
    }
   ],
   "source": [
    "calculate_all_bond_angles(H2_coords)\n",
    "print()\n",
    "calculate_all_bond_angles(H2O_coords)\n",
    "print()\n",
    "#calculate_all_bond_angles(Benzene_coords)\n",
    "#Not sure how to make Benzene print all values without being a way too long list.\n",
    "print()"
   ]
  },
  {
   "cell_type": "code",
   "execution_count": null,
   "metadata": {},
   "outputs": [],
   "source": []
  }
 ],
 "metadata": {
  "kernelspec": {
   "display_name": "Python 3 (ipykernel)",
   "language": "python",
   "name": "python3"
  },
  "language_info": {
   "codemirror_mode": {
    "name": "ipython",
    "version": 3
   },
   "file_extension": ".py",
   "mimetype": "text/x-python",
   "name": "python",
   "nbconvert_exporter": "python",
   "pygments_lexer": "ipython3",
   "version": "3.12.1"
  }
 },
 "nbformat": 4,
 "nbformat_minor": 2
}
