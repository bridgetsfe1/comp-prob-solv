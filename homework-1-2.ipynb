{
 "cells": [
  {
   "cell_type": "code",
   "execution_count": 1,
   "metadata": {},
   "outputs": [
    {
     "name": "stdout",
     "output_type": "stream",
     "text": [
      "Hello World!\n"
     ]
    }
   ],
   "source": [
    "\"\"\"\n",
    "H2_coords = {\n",
    "    \"H1\": [0, 0, 0]\n",
    "    \"H2\": [0, 0, 0.7414]\n",
    "    }\n",
    "H2O_coords = {\n",
    "   \"O1\": [0, 0, 0.1173] \n",
    "   \"H1\": [0, 0.7572, -0.4692]\n",
    "   \"H2\": [0, -0.7572, -0.4692]\n",
    "   }\n",
    "Benzene_coords = {\n",
    "    \"C1\":\t[0.0000, 1.3970, 0.0000]\n",
    "    \"C2\":\t[1.2098, 0.6985, 0.0000]\n",
    "    \"C3\":\t[1.2098, -0.6985, 0.0000]\n",
    "    \"C4\":\t[0.0000, -1.3970, 0.0000]\n",
    "    \"C5\":\t[-1.2098, -0.6985, 0.0000]\n",
    "    \"C6\":\t[-1.2098, 0.6985, 0.0000]\n",
    "    \"H1\":\t[0.0000, 2.4810, 0.0000]\n",
    "    \"H2\":\t[2.1486, 1.2405, 0.0000]\n",
    "    \"H3\":\t[2.1486, -1.2405, 0.0000]\n",
    "    \"H4\":\t[0.0000, -2.4810, 0.0000]\n",
    "    \"H5\":\t[-2.1486, -1.2405, 0.0000]\n",
    "    \"H6\":\t[-2.1486, 1.2405, 0.0000]\n",
    "    }\n",
    "\n"
   ]
  },
  {
   "cell_type": "code",
   "execution_count": null,
   "metadata": {},
   "outputs": [],
   "source": []
  }
 ],
 "metadata": {
  "kernelspec": {
   "display_name": "Python 3 (ipykernel)",
   "language": "python",
   "name": "python3"
  },
  "language_info": {
   "codemirror_mode": {
    "name": "ipython",
    "version": 3
   },
   "file_extension": ".py",
   "mimetype": "text/x-python",
   "name": "python",
   "nbconvert_exporter": "python",
   "pygments_lexer": "ipython3",
   "version": "3.12.1"
  }
 },
 "nbformat": 4,
 "nbformat_minor": 2
}
